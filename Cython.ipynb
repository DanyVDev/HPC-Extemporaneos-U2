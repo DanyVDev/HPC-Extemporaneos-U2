{
  "nbformat": 4,
  "nbformat_minor": 0,
  "metadata": {
    "colab": {
      "provenance": [],
      "authorship_tag": "ABX9TyOMYU3qezYtYNmKC6ZIsPaC",
      "include_colab_link": true
    },
    "kernelspec": {
      "name": "python3",
      "display_name": "Python 3"
    },
    "language_info": {
      "name": "python"
    }
  },
  "cells": [
    {
      "cell_type": "markdown",
      "metadata": {
        "id": "view-in-github",
        "colab_type": "text"
      },
      "source": [
        "<a href=\"https://colab.research.google.com/github/DanyVDev/HPC-Extemporaneos-U2/blob/main/Cython.ipynb\" target=\"_parent\"><img src=\"https://colab.research.google.com/assets/colab-badge.svg\" alt=\"Open In Colab\"/></a>"
      ]
    },
    {
      "cell_type": "code",
      "source": [
        "%load_ext Cython"
      ],
      "metadata": {
        "id": "s6Ad2X9ZOfNJ"
      },
      "execution_count": 1,
      "outputs": []
    },
    {
      "cell_type": "code",
      "source": [
        "! python setup.py build_ext --inplace"
      ],
      "metadata": {
        "colab": {
          "base_uri": "https://localhost:8080/"
        },
        "id": "4n7at0DALoLJ",
        "outputId": "caa6fd07-9371-4c4f-e910-e57b101712a1"
      },
      "execution_count": 2,
      "outputs": [
        {
          "output_type": "stream",
          "name": "stdout",
          "text": [
            "Compiling Cython1.pyx because it changed.\n",
            "[1/1] Cythonizing Cython1.pyx\n",
            "/usr/local/lib/python3.10/dist-packages/Cython/Compiler/Main.py:381: FutureWarning: Cython directive 'language_level' not set, using '3str' for now (Py3). This has changed from earlier releases! File: /content/Cython1.pyx\n",
            "  tree = Parsing.p_module(s, pxd, full_module_name)\n"
          ]
        }
      ]
    },
    {
      "cell_type": "markdown",
      "source": [
        "#Time meditions\n",
        "\n",
        "Pure Python\n"
      ],
      "metadata": {
        "id": "NKiRInCRdQqU"
      }
    },
    {
      "cell_type": "code",
      "source": [
        "import time\n",
        "\n",
        "def update(lattice):\n",
        "    # Calculate the length of the lattice box\n",
        "    box_length = len(lattice) - 2\n",
        "    # Create a new lattice of the same size as the original, initialized with zeros\n",
        "    lattice_new = [[0 for _ in range(box_length + 2)] for _ in range(box_length + 2)]\n",
        "    # Iterate over each cell in the original lattice\n",
        "    for i in range(1, box_length + 1):\n",
        "        for j in range(1, box_length + 1):\n",
        "            # Update the cell in the new lattice based on the rules defined in update_rule\n",
        "            lattice_new[i][j] = update_rule(lattice, i, j)\n",
        "    # Return the new updated lattice\n",
        "    return lattice_new\n",
        "\n",
        "'''\n",
        "This function determines the state of a cell in the next iteration based on its current state and the state of its neighbors.\n",
        "It applies the rules of Conway's Game of Life to determine the new state of the cell.\n",
        "'''\n",
        "def update_rule(lattice, i, j):\n",
        "    # Calculate the number of live neighbors of the current cell\n",
        "    n_neigh = lattice[i + 1][j] + lattice[i][j + 1] + lattice[i + 1][j + 1] + \\\n",
        "    lattice[i + 1][j - 1] + lattice[i - 1][j] + lattice[i][j - 1] + \\\n",
        "    lattice[i - 1][j + 1] + lattice[i - 1][j - 1]\n",
        "    # Apply the rules of Conway's Game of Life to determine the new state of the cell\n",
        "    if (lattice[i][j] == 1) and (n_neigh in [2, 3]):\n",
        "        return 1  # The cell remains alive\n",
        "    elif lattice[i][j] == 1:\n",
        "        return 0  # The cell dies due to overpopulation or loneliness\n",
        "    elif (lattice[i][j] == 0) and (n_neigh == 3):\n",
        "        return 1  # A new cell is born in a dead cell due to reproduction\n",
        "    else:\n",
        "        return 0  # The cell remains dead\n",
        "\n",
        "# Function to execute the code once and return the total execution time\n",
        "def run_code(lattice):\n",
        "    start_time = time.time()\n",
        "    update(lattice)\n",
        "    end_time = time.time()\n",
        "    total_time = end_time - start_time\n",
        "    return total_time\n",
        "\n",
        "# Code to create and execute the lattice, and then print the total execution time\n",
        "lattice = [[0, 0, 0, 0, 0],\n",
        "           [0, 1, 1, 1, 0],\n",
        "           [0, 1, 0, 1, 0],\n",
        "           [0, 1, 1, 1, 0],\n",
        "           [0, 0, 0, 0, 0]]\n",
        "\n",
        "execution_time = run_code(lattice)\n",
        "print(\"Total execution time:\", execution_time)\n"
      ],
      "metadata": {
        "colab": {
          "base_uri": "https://localhost:8080/"
        },
        "id": "J6rBGwhZdV_Q",
        "outputId": "04f8fdb3-90e8-4968-d19f-4f46024d3fe9"
      },
      "execution_count": 5,
      "outputs": [
        {
          "output_type": "stream",
          "name": "stdout",
          "text": [
            "Total execution time: 2.1696090698242188e-05\n"
          ]
        }
      ]
    }
  ]
}